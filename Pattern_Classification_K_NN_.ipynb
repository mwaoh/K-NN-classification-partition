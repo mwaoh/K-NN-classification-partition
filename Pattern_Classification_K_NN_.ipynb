{
  "nbformat": 4,
  "nbformat_minor": 0,
  "metadata": {
    "colab": {
      "provenance": []
    },
    "kernelspec": {
      "name": "python3",
      "display_name": "Python 3"
    },
    "language_info": {
      "name": "python"
    }
  },
  "cells": [
    {
      "cell_type": "code",
      "execution_count": 1,
      "metadata": {
        "id": "E8rE1Vz6tqa_"
      },
      "outputs": [],
      "source": [
        "#Importing packages \n",
        "import numpy as np\n",
        "import time\n",
        "\n",
        "# Input data points\n",
        "#Creating a dataset to use to demonstrate how the partition of the algorithm works\n",
        "data = np.array([[1, 2], [3, 4], [5, 6], [7, 8], [9, 10], [11, 12], [13, 14], [15, 16], [17, 18], [19, 20],\n",
        "                [21, 22], [23, 24], [25, 26], [27, 28], [29, 30], [31, 32], [33, 34], [35, 36], [37, 38],\n",
        "                [39, 40], [41, 42], [43, 44], [45, 46], [47, 48], [49, 50]])\n",
        "\n"
      ]
    },
    {
      "cell_type": "code",
      "source": [
        "# Input query point\n",
        "query = np.array([4, 5])\n",
        "\n",
        "# Input value of k\n",
        "#setting the number of clusters to have in the dataset\n",
        "k = 3\n",
        "\n",
        "# Train Time\n",
        "start_time = time.time()\n",
        "\n",
        "# Calculate euclidean distance between the query point and each data point\n",
        "distances = np.linalg.norm(data - query, axis=1)\n",
        "\n",
        "# Sort the data points by distance\n",
        "indices = np.argsort(distances)\n",
        "\n",
        "train_time = time.time() - start_time\n",
        "\n",
        "# Print train time\n",
        "print(\"Train Time: {:.6f} seconds\".format(train_time))\n",
        "\n",
        "# Test Time\n",
        "start_time = time.time()\n",
        "\n",
        "# Find the k nearest neighbors\n",
        "kNN = data[indices[:k]]\n",
        "\n",
        "test_time = time.time() - start_time\n",
        "\n",
        "# Print test time\n",
        "print(\"Test Time: {:.6f} seconds\".format(test_time))\n",
        "\n",
        "# Print the k nearest neighbors\n",
        "print(\"k-NN: {}\".format(kNN))\n",
        "\n",
        "\n",
        "#The dataset used in this example is a set of 25 points with x and y coordinates: \n",
        "[[1, 2], [3, 4], [5, 6], [7, 8], [9, 10], [11, 12], [13, 14], [15, 16], [17, 18], [19, 20], \n",
        "[21, 22], [23, 24], [25, 26], [27, 28], [29, 30], [31, 32], [33, 34], [35, 36], [37, 38], [39, 40], \n",
        "[41, 42], [43, 44], [45, 46], [47, 48], [49, 50]]\n",
        "\n",
        "\n"
      ],
      "metadata": {
        "colab": {
          "base_uri": "https://localhost:8080/"
        },
        "id": "MbGpiX62t4OB",
        "outputId": "c9be0b36-ec80-4878-9236-21cefe8d3132"
      },
      "execution_count": 5,
      "outputs": [
        {
          "output_type": "stream",
          "name": "stdout",
          "text": [
            "Train Time: 0.004364 seconds\n",
            "Test Time: 0.000162 seconds\n",
            "k-NN: [[3 4]\n",
            " [5 6]\n",
            " [1 2]]\n"
          ]
        },
        {
          "output_type": "execute_result",
          "data": {
            "text/plain": [
              "[[1, 2],\n",
              " [3, 4],\n",
              " [5, 6],\n",
              " [7, 8],\n",
              " [9, 10],\n",
              " [11, 12],\n",
              " [13, 14],\n",
              " [15, 16],\n",
              " [17, 18],\n",
              " [19, 20],\n",
              " [21, 22],\n",
              " [23, 24],\n",
              " [25, 26],\n",
              " [27, 28],\n",
              " [29, 30],\n",
              " [31, 32],\n",
              " [33, 34],\n",
              " [35, 36],\n",
              " [37, 38],\n",
              " [39, 40],\n",
              " [41, 42],\n",
              " [43, 44],\n",
              " [45, 46],\n",
              " [47, 48],\n",
              " [49, 50]]"
            ]
          },
          "metadata": {},
          "execution_count": 5
        }
      ]
    }
  ]
}